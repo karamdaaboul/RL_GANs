{
 "cells": [
  {
   "cell_type": "code",
   "execution_count": null,
   "id": "c8d76b09",
   "metadata": {},
   "outputs": [],
   "source": [
    "!pip install kornia"
   ]
  },
  {
   "cell_type": "code",
   "execution_count": null,
   "id": "d872b44d",
   "metadata": {},
   "outputs": [],
   "source": [
    "import json\n",
    "import os\n",
    "import numpy as np\n",
    "import matplotlib.pyplot as plt\n",
    "\n",
    "import torch\n",
    "import torch.nn as nn\n",
    "\n",
    "from torchvision import transforms \n",
    "from torchvision import datasets as dts\n",
    "\n",
    "import kornia"
   ]
  },
  {
   "cell_type": "code",
   "execution_count": null,
   "id": "0965f833",
   "metadata": {},
   "outputs": [],
   "source": [
    "# normalize data\n",
    "transform = transforms.Compose(\n",
    "    [transforms.ToTensor(),\n",
    "     transforms.Normalize((0.5, 0.5, 0.5), (0.5, 0.5, 0.5))])\n",
    "\n",
    "\n",
    "# load train data\n",
    "train_dataset = dts.CIFAR10(root='../data', \n",
    "                           train=True, \n",
    "                           transform=transform,  \n",
    "                           download=True)\n",
    "batch_size = 4\n",
    "\n",
    "trainloader = torch.utils.data.DataLoader(train_dataset, batch_size=batch_size,\n",
    "                                          shuffle=True, num_workers=2)\n",
    "\n",
    "classes = ('plane', 'car', 'bird', 'cat',\n",
    "           'deer', 'dog', 'frog', 'horse', 'ship', 'truck')"
   ]
  },
  {
   "cell_type": "code",
   "execution_count": null,
   "id": "421190c6",
   "metadata": {},
   "outputs": [],
   "source": [
    "# functions to show an image\n",
    "from torchvision.utils import make_grid\n",
    "\n",
    "\n",
    "def imshow(img):\n",
    "    img = img / 2 + 0.5     # unnormalize\n",
    "    npimg = img.numpy()\n",
    "    plt.imshow(np.transpose(npimg, (1, 2, 0)))\n",
    "    plt.show()\n",
    "\n",
    "\n",
    "# get some random training images\n",
    "dataiter = iter(trainloader)\n",
    "images, labels = dataiter.next()\n",
    "\n",
    "# show images\n",
    "imshow(make_grid(images))\n",
    "# print labels\n",
    "print(' '.join(f'{classes[labels[j]]:5s}' for j in range(batch_size)))"
   ]
  },
  {
   "cell_type": "code",
   "execution_count": null,
   "id": "b390cc26",
   "metadata": {},
   "outputs": [],
   "source": [
    "def augument_image(image, data_augs):\n",
    "    modules = []\n",
    "    data_augs_list = data_augs.split()\n",
    "\n",
    "    if 'crop' in data_augs_list:\n",
    "        modules.append(nn.ReplicationPad2d(4))\n",
    "        modules.append(kornia.augmentation.RandomCrop(size=(64, 64)))\n",
    "    if 'jitter' in data_augs_list:\n",
    "        modules.append(kornia.augmentation.ColorJitter(0.2, 0.3, 0.2, 0.3))\n",
    "    if 'erase' in data_augs_list:\n",
    "        modules.append(kornia.augmentation.RandomErasing())\n",
    "    if 'hflip' in data_augs_list:\n",
    "        modules.append(kornia.augmentation.RandomHorizontalFlip())\n",
    "    if 'vflip' in data_augs_list:\n",
    "        modules.append(kornia.augmentation.RandomVerticalFlip())\n",
    "    if 'rot' in data_augs_list:\n",
    "        modules.append(kornia.augmentation.RandomRotation(degrees=5.0))\n",
    "\n",
    "    transforms = nn.Sequential(*modules)\n",
    "    augumented_image = transforms(image + 0.5)\n",
    "    return augumented_image - 0.5"
   ]
  },
  {
   "cell_type": "code",
   "execution_count": null,
   "id": "e5b4671f",
   "metadata": {},
   "outputs": [],
   "source": [
    "aug_images = augument_image(images ,'jitter')"
   ]
  },
  {
   "cell_type": "code",
   "execution_count": null,
   "id": "c0a9b0ea",
   "metadata": {},
   "outputs": [],
   "source": [
    "# show images\n",
    "imshow(make_grid(aug_images))\n",
    "# print labels\n",
    "print(' '.join(f'{classes[labels[j]]:5s}' for j in range(batch_size)))"
   ]
  },
  {
   "cell_type": "code",
   "execution_count": null,
   "id": "9040c8e8",
   "metadata": {},
   "outputs": [],
   "source": [
    "aug_images = augument_image(images ,'rot')\n",
    "\n",
    "# show images\n",
    "imshow(make_grid(aug_images))\n",
    "# print labels\n",
    "print(' '.join(f'{classes[labels[j]]:5s}' for j in range(batch_size)))"
   ]
  },
  {
   "cell_type": "code",
   "execution_count": null,
   "id": "48ea7643",
   "metadata": {},
   "outputs": [],
   "source": [
    "aug_images = augument_image(images ,'hflip')\n",
    "\n",
    "# show images\n",
    "imshow(make_grid(aug_images))\n",
    "# print labels\n",
    "print(' '.join(f'{classes[labels[j]]:5s}' for j in range(batch_size)))"
   ]
  },
  {
   "cell_type": "code",
   "execution_count": null,
   "id": "019462c5",
   "metadata": {},
   "outputs": [],
   "source": [
    "aug_images = augument_image(images ,'jitter hflip')\n",
    "\n",
    "# show images\n",
    "imshow(make_grid(aug_images))\n",
    "# print labels\n",
    "print(' '.join(f'{classes[labels[j]]:5s}' for j in range(batch_size))) "
   ]
  }
 ],
 "metadata": {
  "kernelspec": {
   "display_name": "venv_wmec",
   "language": "python",
   "name": "venv_wmec"
  },
  "language_info": {
   "codemirror_mode": {
    "name": "ipython",
    "version": 3
   },
   "file_extension": ".py",
   "mimetype": "text/x-python",
   "name": "python",
   "nbconvert_exporter": "python",
   "pygments_lexer": "ipython3",
   "version": "3.8.10"
  }
 },
 "nbformat": 4,
 "nbformat_minor": 5
}
