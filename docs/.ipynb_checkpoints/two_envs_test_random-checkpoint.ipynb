{
 "cells": [
  {
   "cell_type": "code",
   "execution_count": 2,
   "id": "e9490974",
   "metadata": {},
   "outputs": [],
   "source": [
    "import torch\n",
    "import torch.nn.functional as F\n",
    "import matplotlib.pyplot as plt\n",
    "from torch import nn\n",
    "from tqdm.auto import tqdm\n",
    "from torchvision import transforms\n",
    "from torchvision.utils import make_grid\n",
    "from torch.utils.data import DataLoader\n",
    "\n",
    "torch.manual_seed(0) # Set for our testing purposes, please do not change!\n",
    "def show_tensor_images(image_tensor, num_images=25, size=(3, 32, 32), nrow=5, show=True):\n",
    "    '''\n",
    "    Function for visualizing images: Given a tensor of images, number of images, and\n",
    "    size per image, plots and prints the images in an uniform grid.\n",
    "    '''\n",
    "    image_tensor = (image_tensor) / 255.\n",
    "    image_unflat = image_tensor.detach().cpu()\n",
    "    image_grid = make_grid(image_unflat, nrow=nrow)\n",
    "    plt.imshow(image_grid.permute(1, 2, 0).squeeze())\n",
    "    if show:\n",
    "        plt.show()"
   ]
  },
  {
   "cell_type": "code",
   "execution_count": 3,
   "id": "65fc9e22",
   "metadata": {},
   "outputs": [
    {
     "data": {
      "text/plain": [
       "array([ 0.03100075, -0.09785633, -0.02670007, -0.01916989, -0.02141213,\n",
       "        0.09768643, -0.00592048, -0.09840062, -0.11281475,  0.05959695,\n",
       "        0.05137493, -0.02875103,  0.11690528,  0.10267569, -0.11476155,\n",
       "       -0.03862011, -0.209565  ])"
      ]
     },
     "execution_count": 3,
     "metadata": {},
     "output_type": "execute_result"
    }
   ],
   "source": [
    "import numpy as np\n",
    "import gym\n",
    "\n",
    "\n",
    "env = gym.make('HalfCheetah-v2')\n",
    "env.reset()"
   ]
  },
  {
   "cell_type": "markdown",
   "id": "94512263",
   "metadata": {},
   "source": [
    "Randomized Env"
   ]
  },
  {
   "cell_type": "code",
   "execution_count": 4,
   "id": "0ed9dcad",
   "metadata": {},
   "outputs": [
    {
     "data": {
      "text/plain": [
       "array([ 0.09957225,  0.09888624, -0.00746735,  0.08550196, -0.01835685,\n",
       "       -0.01257029,  0.02944849,  0.04606902,  0.04626107,  0.02372886,\n",
       "        0.15435911,  0.12475521,  0.18264826, -0.00776227,  0.09712876,\n",
       "       -0.09545976, -0.01536647])"
      ]
     },
     "execution_count": 4,
     "metadata": {},
     "output_type": "execute_result"
    }
   ],
   "source": [
    "env_2 = gym.make('HalfCheetah-v2')\n",
    "env_2.reset()"
   ]
  },
  {
   "cell_type": "code",
   "execution_count": 5,
   "id": "a2332d85",
   "metadata": {},
   "outputs": [],
   "source": [
    "from rl_gans.wrappers.pixel_observation_wrapper import PixelObservation"
   ]
  },
  {
   "cell_type": "code",
   "execution_count": 6,
   "id": "98d36dbf",
   "metadata": {},
   "outputs": [],
   "source": [
    "#desired_state = env.sim.get_state()\n",
    "#env_2.sim.set_state(desired_state)\n",
    "\n",
    "#print(env_2.sim.get_state())"
   ]
  },
  {
   "cell_type": "code",
   "execution_count": 7,
   "id": "ec2ec318",
   "metadata": {},
   "outputs": [],
   "source": [
    "action = env.action_space.sample()"
   ]
  },
  {
   "cell_type": "code",
   "execution_count": 8,
   "id": "791c2589",
   "metadata": {},
   "outputs": [
    {
     "data": {
      "text/plain": [
       "(array([ 0.03548156, -0.06412274,  0.19256381, -0.38219445,  0.19897054,\n",
       "        -0.05434035, -0.10539972,  0.21422674, -0.04140254, -0.12502958,\n",
       "         0.64810743,  5.29435449, -7.86459215,  5.29824009, -4.30149674,\n",
       "        -2.75294743,  8.60813212]),\n",
       " -0.27742510299544365,\n",
       " False,\n",
       " {'reward_run': -0.0380418584809783, 'reward_ctrl': -0.23938324451446535})"
      ]
     },
     "execution_count": 8,
     "metadata": {},
     "output_type": "execute_result"
    }
   ],
   "source": [
    "env.step(action)"
   ]
  },
  {
   "cell_type": "code",
   "execution_count": 9,
   "id": "66ee4fad",
   "metadata": {},
   "outputs": [
    {
     "data": {
      "text/plain": [
       "(array([ 0.10106966,  0.14731195,  0.22410286, -0.34190529,  0.20268537,\n",
       "        -0.09655261, -0.11465251,  0.27831636,  0.2524407 , -0.18582501,\n",
       "         0.97337823,  5.44376983, -9.53737195,  5.37151172, -2.62471834,\n",
       "        -3.70685623,  6.28488973]),\n",
       " 0.016405641268537274,\n",
       " False,\n",
       " {'reward_run': 0.25578888578300263, 'reward_ctrl': -0.23938324451446535})"
      ]
     },
     "execution_count": 9,
     "metadata": {},
     "output_type": "execute_result"
    }
   ],
   "source": [
    "env_2.step(action)"
   ]
  },
  {
   "cell_type": "code",
   "execution_count": 10,
   "id": "48372082",
   "metadata": {},
   "outputs": [
    {
     "data": {
      "text/plain": [
       "Namespace(action_repeat=4, actor_beta=0.9, actor_log_std_max=2, actor_log_std_min=-10, actor_lr=0.001, actor_update_freq=2, agent='gan', agent_image_size=84, alpha_beta=0.5, alpha_lr=0.0001, batch_size=128, critic_beta=0.9, critic_encoder_tau=0.05, critic_lr=0.001, critic_target_update_freq=2, critic_tau=0.01, discount=0.99, discriminator_beta=0.5, discriminator_lr=0.0001, discriminator_update_freq=2, domain_name='cheetah', encoder_feature_dim=50, env_image_size=(84,), eval_freq=10000, frame_stack=3, generator_beta=0.5, generator_lr=0.0001, generator_update_freq=1, hidden_dim=1024, init_steps=1000, init_temperature=0.1, log_interval=25, num_eval_episodes=10, num_filters=32, num_layers=4, num_train_steps=1000000, replay_buffer_capacity=100000, save_buffer=False, save_model=False, save_tb=False, seed=1, task_name='run', work_dir='.')"
      ]
     },
     "execution_count": 10,
     "metadata": {},
     "output_type": "execute_result"
    }
   ],
   "source": [
    "from rl_gans.utils.replay_buffer import make_replay_buffer, ReplayBufferAugmentedStorage\n",
    "from pathlib import Path\n",
    "\n",
    "from rl_gans.utils.argument import parse_args\n",
    "args = parse_args()\n",
    "args"
   ]
  },
  {
   "cell_type": "code",
   "execution_count": 11,
   "id": "84f65c3a",
   "metadata": {},
   "outputs": [
    {
     "name": "stdout",
     "output_type": "stream",
     "text": [
      "Creating window glfw\n",
      "Creating window glfw\n"
     ]
    }
   ],
   "source": [
    "replay_storage = ReplayBufferAugmentedStorage(Path(args.work_dir) / 'buffer')\n",
    "# use the wrapper\n",
    "env = PixelObservation(env,observation_size= args.env_image_size[0] ,normalize=False)\n",
    "env_2 = PixelObservation(env_2,observation_size= args.env_image_size[0] ,normalize=False)"
   ]
  },
  {
   "cell_type": "code",
   "execution_count": 12,
   "id": "ced3845f",
   "metadata": {},
   "outputs": [
    {
     "name": "stdout",
     "output_type": "stream",
     "text": [
      "1\n",
      "2\n",
      "3\n",
      "4\n",
      "5\n",
      "6\n",
      "7\n",
      "8\n",
      "9\n",
      "10\n"
     ]
    }
   ],
   "source": [
    "episode, episode_reward, done = 0, 0, True\n",
    "\n",
    "for step in range(10000):\n",
    "    if done:\n",
    "        if step > 0:\n",
    "            replay_storage.add(obs, None, None, True,obs_2)  # add the last observation for each episode\n",
    "        obs = env.reset()\n",
    "        obs_2 = env_2.reset()\n",
    "        done = False\n",
    "        episode_reward = 0\n",
    "        episode_step = 0\n",
    "        episode += 1\n",
    "        print(episode)\n",
    "    action = env.action_space.sample()\n",
    "    next_obs, reward, done, _ = env.step(action)\n",
    "    next_obs_2, reward, done, _ = env_2.step(action)\n",
    "    # allow infinit bootstrap\n",
    "    done_bool = 0 if episode_step + 1 == 1000 else float(done)\n",
    "    episode_reward += reward\n",
    "    replay_storage.add(obs, action, reward, done_bool, obs_2)    \n",
    "\n",
    "    obs = next_obs\n",
    "    obs_2 = next_obs_2\n",
    "    episode_step += 1"
   ]
  },
  {
   "cell_type": "code",
   "execution_count": 15,
   "id": "29c62564",
   "metadata": {},
   "outputs": [],
   "source": [
    "env_obs_shape = env.observation_space.shape\n",
    "device = 'cuda'"
   ]
  },
  {
   "cell_type": "code",
   "execution_count": 16,
   "id": "4b6aa4eb",
   "metadata": {},
   "outputs": [],
   "source": [
    "replay_buffer = make_replay_buffer(replay_dir=Path(args.work_dir) / 'buffer',\n",
    "                                                   max_size=args.replay_buffer_capacity,\n",
    "                                                   batch_size=args.batch_size,\n",
    "                                                   num_workers=1,\n",
    "                                                   save_snapshot=False,\n",
    "                                                   nstep=1,\n",
    "                                                   discount=args.discount,\n",
    "                                                   obs_shape=env_obs_shape,\n",
    "                                                   device=device,\n",
    "                                                   image_size=args.agent_image_size,\n",
    "                                                   image_pad=False)"
   ]
  },
  {
   "cell_type": "code",
   "execution_count": 17,
   "id": "cbd0859b",
   "metadata": {},
   "outputs": [],
   "source": [
    "obs, _ , _ , _, _, obs_aug = replay_buffer.sample_aug()"
   ]
  },
  {
   "cell_type": "code",
   "execution_count": 18,
   "id": "92b49b63",
   "metadata": {},
   "outputs": [
    {
     "data": {
      "text/plain": [
       "torch.Size([128, 3, 84, 84])"
      ]
     },
     "execution_count": 18,
     "metadata": {},
     "output_type": "execute_result"
    }
   ],
   "source": [
    "obs.shape"
   ]
  },
  {
   "cell_type": "code",
   "execution_count": 19,
   "id": "c73c64bf",
   "metadata": {},
   "outputs": [
    {
     "data": {
      "text/plain": [
       "torch.Size([128, 3, 84, 84])"
      ]
     },
     "execution_count": 19,
     "metadata": {},
     "output_type": "execute_result"
    }
   ],
   "source": [
    "obs_aug.shape"
   ]
  },
  {
   "cell_type": "code",
   "execution_count": 20,
   "id": "7f964c04",
   "metadata": {},
   "outputs": [
    {
     "data": {
      "text/plain": [
       "torch.Size([6, 3, 84, 84])"
      ]
     },
     "execution_count": 20,
     "metadata": {},
     "output_type": "execute_result"
    }
   ],
   "source": [
    "image_1  = obs[1:4]\n",
    "image_2  = obs_aug[1:4]\n",
    "\n",
    "outputs = [image_1,image_2]\n",
    "images = torch.cat(outputs, dim=0) \n",
    "\n",
    "images.shape"
   ]
  },
  {
   "cell_type": "code",
   "execution_count": 21,
   "id": "d1b73431",
   "metadata": {},
   "outputs": [
    {
     "data": {
      "image/png": "[encoded data removed]",
      "text/plain": [
       "<Figure size 432x288 with 1 Axes>"
      ]
     },
     "metadata": {
      "needs_background": "light"
     },
     "output_type": "display_data"
    }
   ],
   "source": [
    "show_tensor_images(images,num_images = 6, size = (3,84,84), nrow = 3)"
   ]
  },
  {
   "cell_type": "code",
   "execution_count": 22,
   "id": "95b2d39e",
   "metadata": {},
   "outputs": [
    {
     "data": {
      "text/plain": [
       "tensor(-3., device='cuda:0')"
      ]
     },
     "execution_count": 22,
     "metadata": {},
     "output_type": "execute_result"
    }
   ],
   "source": [
    "torch.sum(image_1[0]- image_2[0])"
   ]
  },
  {
   "cell_type": "code",
   "execution_count": 23,
   "id": "d4ea06df",
   "metadata": {},
   "outputs": [
    {
     "data": {
      "text/plain": [
       "tensor(12586., device='cuda:0')"
      ]
     },
     "execution_count": 23,
     "metadata": {},
     "output_type": "execute_result"
    }
   ],
   "source": [
    "torch.sum(image_1[1]- image_2[1])"
   ]
  },
  {
   "cell_type": "code",
   "execution_count": 24,
   "id": "997f94d9",
   "metadata": {},
   "outputs": [
    {
     "data": {
      "text/plain": [
       "tensor(-15293., device='cuda:0')"
      ]
     },
     "execution_count": 24,
     "metadata": {},
     "output_type": "execute_result"
    }
   ],
   "source": [
    "torch.sum(image_1[2]- image_2[2])"
   ]
  },
  {
   "cell_type": "code",
   "execution_count": null,
   "id": "62f6601a",
   "metadata": {},
   "outputs": [],
   "source": []
  }
 ],
 "metadata": {
  "kernelspec": {
   "display_name": "venv_wmec",
   "language": "python",
   "name": "venv_wmec"
  },
  "language_info": {
   "codemirror_mode": {
    "name": "ipython",
    "version": 3
   },
   "file_extension": ".py",
   "mimetype": "text/x-python",
   "name": "python",
   "nbconvert_exporter": "python",
   "pygments_lexer": "ipython3",
   "version": "3.8.10"
  }
 },
 "nbformat": 4,
 "nbformat_minor": 5
}
